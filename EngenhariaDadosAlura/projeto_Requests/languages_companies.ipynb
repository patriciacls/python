{
 "cells": [
  {
   "cell_type": "code",
   "execution_count": 1,
   "metadata": {},
   "outputs": [],
   "source": [
    "import requests"
   ]
  },
  {
   "cell_type": "code",
   "execution_count": 2,
   "metadata": {},
   "outputs": [],
   "source": [
    "#versao api\n",
    "headers= {'X-Githun-Api-Version':'2022-11-28'}"
   ]
  },
  {
   "cell_type": "code",
   "execution_count": 3,
   "metadata": {},
   "outputs": [],
   "source": [
    "api_base_url = 'https://api.github.com'\n",
    "owner = 'amzn' \n",
    "url = f'{api_base_url}/users/{owner}/repos'"
   ]
  },
  {
   "cell_type": "code",
   "execution_count": null,
   "metadata": {},
   "outputs": [
    {
     "data": {
      "text/plain": [
       "'https://api.github.com/users/amzn/repos'"
      ]
     },
     "execution_count": 4,
     "metadata": {},
     "output_type": "execute_result"
    }
   ],
   "source": [
    "url"
   ]
  },
  {
   "cell_type": "markdown",
   "metadata": {},
   "source": [
    "Realizando request atribuindo a url, a versão e vendo se trazia retorno de código 2."
   ]
  },
  {
   "cell_type": "code",
   "execution_count": 5,
   "metadata": {},
   "outputs": [
    {
     "data": {
      "text/plain": [
       "200"
      ]
     },
     "execution_count": 5,
     "metadata": {},
     "output_type": "execute_result"
    }
   ],
   "source": [
    "response = requests.get(url,headers=headers)\n",
    "response.status_code"
   ]
  },
  {
   "cell_type": "markdown",
   "metadata": {},
   "source": [
    "Validando a quantidade de repositórios"
   ]
  },
  {
   "cell_type": "code",
   "execution_count": 6,
   "metadata": {},
   "outputs": [
    {
     "data": {
      "text/plain": [
       "30"
      ]
     },
     "execution_count": 6,
     "metadata": {},
     "output_type": "execute_result"
    }
   ],
   "source": [
    "len(response.json())"
   ]
  },
  {
   "cell_type": "markdown",
   "metadata": {},
   "source": [
    "Retornou apenas \"30\", mas verificando no github da amazon é muito mais,\n",
    "Começamos a ver sobre temas de autenticação e paginação.\n",
    "\n",
    "No git pessoal: configurações> configurações de developer> personal access tokens"
   ]
  },
  {
   "cell_type": "markdown",
   "metadata": {},
   "source": [
    "utilizamos headers para enviar informações junto com as requisições. Geralmente, headers contêm itens importantes sobre o pedido ou a resposta de uma requisição, como data, hora e a utilização do navegador, ou ainda itens para informar nosso Token"
   ]
  },
  {
   "cell_type": "code",
   "execution_count": 7,
   "metadata": {},
   "outputs": [],
   "source": [
    "acess_token = ''"
   ]
  },
  {
   "cell_type": "code",
   "execution_count": 8,
   "metadata": {},
   "outputs": [],
   "source": [
    "headers = {'Authorization': 'Bearer ' + acess_token,\n",
    "           'X-Github-Api-Version':'2022-11-28'}"
   ]
  },
  {
   "cell_type": "markdown",
   "metadata": {},
   "source": [
    "Fui até a url e identifiquei a quantidade de paginas. Para resolver o problema da paginação (não estava trazendo tudo)"
   ]
  },
  {
   "cell_type": "code",
   "execution_count": 9,
   "metadata": {},
   "outputs": [
    {
     "data": {
      "text/plain": [
       "'https://api.github.com/users/amzn/repos'"
      ]
     },
     "execution_count": 9,
     "metadata": {},
     "output_type": "execute_result"
    }
   ],
   "source": [
    "api_base_url = 'https://api.github.com'\n",
    "owner = 'amzn' \n",
    "url = f'{api_base_url}/users/{owner}/repos'\n",
    "url"
   ]
  },
  {
   "cell_type": "markdown",
   "metadata": {},
   "source": [
    "É importante considerar a possibilidade de tratar erros e exceções que podem ocorrer durante a execução do código. Caso os erros não sejam tratados de forma adequada, podemos ter erros e comportamentos inesperados. Nesse contexto, o uso de uma estrutura utilizando try e 'except' pode ser fundamental para lidar com esses possíveis erros e exceções."
   ]
  },
  {
   "cell_type": "code",
   "execution_count": 10,
   "metadata": {},
   "outputs": [],
   "source": [
    "repos_list = []\n",
    "for page_num in range(1,7):\n",
    "    try:\n",
    "        url_page = f'{url}?page={page_num}'\n",
    "        response = requests.get(url_page, headers=headers)\n",
    "        repos_list.append(response.json())\n",
    "    except:\n",
    "        repos_list.append(None)"
   ]
  },
  {
   "cell_type": "code",
   "execution_count": 11,
   "metadata": {},
   "outputs": [
    {
     "name": "stdout",
     "output_type": "stream",
     "text": [
      "159\n"
     ]
    }
   ],
   "source": [
    "#validando \n",
    "total_repositorios = 0\n",
    "for repos in repos_list:\n",
    "    total_repositorios += len(repos)\n",
    "print(total_repositorios)\n"
   ]
  },
  {
   "cell_type": "markdown",
   "metadata": {},
   "source": [
    "Nomes dos repositórios"
   ]
  },
  {
   "cell_type": "code",
   "execution_count": 12,
   "metadata": {},
   "outputs": [
    {
     "data": {
      "text/plain": [
       "'ads-pao-amznjs-gtm-template'"
      ]
     },
     "execution_count": 12,
     "metadata": {},
     "output_type": "execute_result"
    }
   ],
   "source": [
    "repos_list[0][2]['name']"
   ]
  },
  {
   "cell_type": "code",
   "execution_count": 13,
   "metadata": {},
   "outputs": [],
   "source": [
    "page = 1\n",
    "repos_name= []\n",
    "for page in repos_list: #passa por cada pagina\n",
    "    for repo in page: #passa por cada repositorio\n",
    "        repos_name.append(repo['name'])\n"
   ]
  },
  {
   "cell_type": "code",
   "execution_count": 14,
   "metadata": {},
   "outputs": [
    {
     "data": {
      "text/plain": [
       "['.github',\n",
       " 'ads-advanced-tools-docs',\n",
       " 'ads-pao-amznjs-gtm-template',\n",
       " 'alexa-coho',\n",
       " 'alexa-skills-kit-js',\n",
       " 'amazon-ads-advertiser-audience-normalization-sdk-py',\n",
       " 'amazon-advertising-api-php-sdk',\n",
       " 'amazon-codeguru-profiler-for-spark',\n",
       " 'amazon-frustration-free-setup-certification-tool',\n",
       " 'amazon-hub-counter-api-docs']"
      ]
     },
     "execution_count": 14,
     "metadata": {},
     "output_type": "execute_result"
    }
   ],
   "source": [
    "#validando o que atribuiu a lista\n",
    "repos_name[:10]"
   ]
  },
  {
   "cell_type": "code",
   "execution_count": 15,
   "metadata": {},
   "outputs": [
    {
     "data": {
      "text/plain": [
       "159"
      ]
     },
     "execution_count": 15,
     "metadata": {},
     "output_type": "execute_result"
    }
   ],
   "source": [
    "#validar qtd, quantidade de nomes o mesmo do total de repositorios (159 atualmente)\n",
    "len(repos_name)"
   ]
  },
  {
   "cell_type": "markdown",
   "metadata": {},
   "source": [
    "Consegui acessar um dado e atribuir uma lista, ai agora partir pra de fato pegar as linguagens de programação que aa Amazon utiliza."
   ]
  },
  {
   "cell_type": "code",
   "execution_count": 16,
   "metadata": {},
   "outputs": [],
   "source": [
    "page = 1\n",
    "repos_lang= []\n",
    "for page in repos_list: #passa por cada pagina\n",
    "    for repo in page: #passa por cada repositorio\n",
    "        repos_lang.append(repo['language'])\n",
    "        \n"
   ]
  },
  {
   "cell_type": "code",
   "execution_count": 17,
   "metadata": {},
   "outputs": [
    {
     "data": {
      "text/plain": [
       "159"
      ]
     },
     "execution_count": 17,
     "metadata": {},
     "output_type": "execute_result"
    }
   ],
   "source": [
    "#validando qtd 159\n",
    "len(repos_lang)"
   ]
  },
  {
   "cell_type": "markdown",
   "metadata": {},
   "source": [
    "Agora vamos começar a usar a PANDASSS           "
   ]
  },
  {
   "cell_type": "code",
   "execution_count": 18,
   "metadata": {},
   "outputs": [],
   "source": [
    "import numpy as np\n",
    "import pandas as pd"
   ]
  },
  {
   "cell_type": "code",
   "execution_count": 19,
   "metadata": {},
   "outputs": [],
   "source": [
    "dados_amz = pd.DataFrame()\n",
    "dados_amz['repository_name'] = repos_name\n",
    "dados_amz['language'] = repos_lang"
   ]
  },
  {
   "cell_type": "code",
   "execution_count": 20,
   "metadata": {},
   "outputs": [
    {
     "data": {
      "text/html": [
       "<div>\n",
       "<style scoped>\n",
       "    .dataframe tbody tr th:only-of-type {\n",
       "        vertical-align: middle;\n",
       "    }\n",
       "\n",
       "    .dataframe tbody tr th {\n",
       "        vertical-align: top;\n",
       "    }\n",
       "\n",
       "    .dataframe thead th {\n",
       "        text-align: right;\n",
       "    }\n",
       "</style>\n",
       "<table border=\"1\" class=\"dataframe\">\n",
       "  <thead>\n",
       "    <tr style=\"text-align: right;\">\n",
       "      <th></th>\n",
       "      <th>repository_name</th>\n",
       "      <th>language</th>\n",
       "    </tr>\n",
       "  </thead>\n",
       "  <tbody>\n",
       "    <tr>\n",
       "      <th>0</th>\n",
       "      <td>.github</td>\n",
       "      <td>None</td>\n",
       "    </tr>\n",
       "    <tr>\n",
       "      <th>1</th>\n",
       "      <td>ads-advanced-tools-docs</td>\n",
       "      <td>Jupyter Notebook</td>\n",
       "    </tr>\n",
       "    <tr>\n",
       "      <th>2</th>\n",
       "      <td>ads-pao-amznjs-gtm-template</td>\n",
       "      <td>Smarty</td>\n",
       "    </tr>\n",
       "    <tr>\n",
       "      <th>3</th>\n",
       "      <td>alexa-coho</td>\n",
       "      <td>JavaScript</td>\n",
       "    </tr>\n",
       "    <tr>\n",
       "      <th>4</th>\n",
       "      <td>alexa-skills-kit-js</td>\n",
       "      <td>None</td>\n",
       "    </tr>\n",
       "    <tr>\n",
       "      <th>...</th>\n",
       "      <td>...</td>\n",
       "      <td>...</td>\n",
       "    </tr>\n",
       "    <tr>\n",
       "      <th>154</th>\n",
       "      <td>zeek-plugin-enip</td>\n",
       "      <td>Zeek</td>\n",
       "    </tr>\n",
       "    <tr>\n",
       "      <th>155</th>\n",
       "      <td>zeek-plugin-profinet</td>\n",
       "      <td>Zeek</td>\n",
       "    </tr>\n",
       "    <tr>\n",
       "      <th>156</th>\n",
       "      <td>zeek-plugin-s7comm</td>\n",
       "      <td>Zeek</td>\n",
       "    </tr>\n",
       "    <tr>\n",
       "      <th>157</th>\n",
       "      <td>zeek-plugin-tds</td>\n",
       "      <td>Zeek</td>\n",
       "    </tr>\n",
       "    <tr>\n",
       "      <th>158</th>\n",
       "      <td>zero-shot-rlhr</td>\n",
       "      <td>Python</td>\n",
       "    </tr>\n",
       "  </tbody>\n",
       "</table>\n",
       "<p>159 rows × 2 columns</p>\n",
       "</div>"
      ],
      "text/plain": [
       "                 repository_name          language\n",
       "0                        .github              None\n",
       "1        ads-advanced-tools-docs  Jupyter Notebook\n",
       "2    ads-pao-amznjs-gtm-template            Smarty\n",
       "3                     alexa-coho        JavaScript\n",
       "4            alexa-skills-kit-js              None\n",
       "..                           ...               ...\n",
       "154             zeek-plugin-enip              Zeek\n",
       "155         zeek-plugin-profinet              Zeek\n",
       "156           zeek-plugin-s7comm              Zeek\n",
       "157              zeek-plugin-tds              Zeek\n",
       "158               zero-shot-rlhr            Python\n",
       "\n",
       "[159 rows x 2 columns]"
      ]
     },
     "execution_count": 20,
     "metadata": {},
     "output_type": "execute_result"
    }
   ],
   "source": [
    "dados_amz"
   ]
  },
  {
   "cell_type": "code",
   "execution_count": 21,
   "metadata": {},
   "outputs": [],
   "source": [
    "dados_amz.to_csv('dados_amzn_api.cvs')"
   ]
  }
 ],
 "metadata": {
  "kernelspec": {
   "display_name": "venv",
   "language": "python",
   "name": "python3"
  },
  "language_info": {
   "codemirror_mode": {
    "name": "ipython",
    "version": 3
   },
   "file_extension": ".py",
   "mimetype": "text/x-python",
   "name": "python",
   "nbconvert_exporter": "python",
   "pygments_lexer": "ipython3",
   "version": "3.10.12"
  }
 },
 "nbformat": 4,
 "nbformat_minor": 2
}
