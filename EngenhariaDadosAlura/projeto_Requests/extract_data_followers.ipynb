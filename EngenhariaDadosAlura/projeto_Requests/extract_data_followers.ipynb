{
 "cells": [
  {
   "cell_type": "code",
   "execution_count": 2,
   "metadata": {},
   "outputs": [],
   "source": [
    "import requests\n",
    "\n",
    "username = 'amzn'\n",
    "url = f\"https://api.github.com/users/{username}/followers\"\n",
    "acess_token = ''\n",
    "headers = {'Authorization': 'Bearer ' + acess_token,\n",
    "           'X-Github-Api-Version':'2022-11-28'}\n",
    "\n",
    "response = requests.get(url, headers=headers)\n",
    "followers = response.json()"
   ]
  },
  {
   "cell_type": "code",
   "execution_count": 5,
   "metadata": {},
   "outputs": [
    {
     "data": {
      "text/plain": [
       "'https://api.github.com/users/amzn/followers'"
      ]
     },
     "execution_count": 5,
     "metadata": {},
     "output_type": "execute_result"
    }
   ],
   "source": [
    "url"
   ]
  },
  {
   "cell_type": "code",
   "execution_count": 4,
   "metadata": {},
   "outputs": [
    {
     "data": {
      "text/plain": [
       "30"
      ]
     },
     "execution_count": 4,
     "metadata": {},
     "output_type": "execute_result"
    }
   ],
   "source": [
    "len(followers)"
   ]
  },
  {
   "cell_type": "code",
   "execution_count": 14,
   "metadata": {},
   "outputs": [
    {
     "name": "stdout",
     "output_type": "stream",
     "text": [
      "O número total de seguidores é: 1681\n"
     ]
    }
   ],
   "source": [
    "import requests\n",
    "\n",
    "username = 'amzn'\n",
    "url = f\"https://api.github.com/users/{username}\"\n",
    "\n",
    "response = requests.get(url)\n",
    "user_details = response.json()\n",
    "total_followers = user_details['followers']\n",
    "\n",
    "print(f\"O número total de seguidores é: {total_followers}\")"
   ]
  }
 ],
 "metadata": {
  "kernelspec": {
   "display_name": "venv",
   "language": "python",
   "name": "python3"
  },
  "language_info": {
   "codemirror_mode": {
    "name": "ipython",
    "version": 3
   },
   "file_extension": ".py",
   "mimetype": "text/x-python",
   "name": "python",
   "nbconvert_exporter": "python",
   "pygments_lexer": "ipython3",
   "version": "3.10.12"
  }
 },
 "nbformat": 4,
 "nbformat_minor": 2
}
