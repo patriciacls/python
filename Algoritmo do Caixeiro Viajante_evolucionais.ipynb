{
  "nbformat": 4,
  "nbformat_minor": 0,
  "metadata": {
    "colab": {
      "name": "Cópia de salesman_ga.ipynb",
      "provenance": [],
      "collapsed_sections": []
    },
    "kernelspec": {
      "name": "python3",
      "display_name": "Python 3"
    }
  },
  "cells": [
    {
      "cell_type": "markdown",
      "metadata": {
        "id": "emB554sXMMTB"
      },
      "source": [
        "# **Algoritmos Genéticos**\n",
        "> Inspirados em termos da biologia evolutiva, tais como hereditariedade, seleção natural, cruzamento e mutação, os Algoritmos Genéticos são uma técnica de Computação Evolucionária centrada na busca de soluções para problemas de otimização. \n",
        "\n",
        "> O presente notebook colab, escrito por Alison Zille Lopes, pretende introduzir a aplicação de Algorimos Genéticos. A presente codificação foi baseada na biblioteca deap e nos exemplos disponíveis em {1}. \n",
        ">* Abaixo podemos visualizar a importação dos pacotes e módulos necessários. \n",
        "---\n",
        "{1} DEAP. Distributed Evolutionary Algorithms in Python. Disponível em: https://deap.readthedocs.io/en/master/. Acesso em: 1 mar 2021."
      ]
    },
    {
      "cell_type": "code",
      "metadata": {
        "id": "M1San9e6aai3",
        "colab": {
          "base_uri": "https://localhost:8080/"
        },
        "outputId": "c52d97bf-62d5-4312-bf31-a392291c073c"
      },
      "source": [
        "#[1] Importando pacotes e módulos\n",
        "\n",
        "import random\n",
        "import numpy\n",
        "\n",
        "!pip install deap # Instalação de DEAP\n",
        "from deap import algorithms\n",
        "from deap import base\n",
        "from deap import creator\n",
        "from deap import tools"
      ],
      "execution_count": null,
      "outputs": [
        {
          "output_type": "stream",
          "name": "stdout",
          "text": [
            "Requirement already satisfied: deap in /usr/local/lib/python3.7/dist-packages (1.3.1)\n",
            "Requirement already satisfied: numpy in /usr/local/lib/python3.7/dist-packages (from deap) (1.21.5)\n"
          ]
        }
      ]
    },
    {
      "cell_type": "markdown",
      "metadata": {
        "id": "fI55ISiXbbQm"
      },
      "source": [
        "#**Seleção e Formulação do Problema** \n",
        "> Simplificando um pouco, os Algortimos Genéticos buscam por soluções próximas do ótimo. Logo, são comumente empregados a problemas para os quais não existem algoritmos conhecidos que encontrem a solução ótima em tempo polinomial.\n",
        "\n",
        "> Dessa forma, nada mais natural do que escolher um desses problemas para aplicar um algoritmo genético. Um exemplo clássico, bastante connhecido dos estudantes de cursos de computação, é o **Problema do Caixeiro Viajante**.\n",
        "\n",
        "> O **Problema do Caixeiro Viajante**, ou *Travelling Salesman Problem*, reside no objetivo de encontrar a menor rota possível para visitar um conjunto de cidades, passando por cada uma delas uma única vez, e retornar à origem.\n",
        "* O espaço de estados para esse problema pode ser representado por um grafo completamente conexo. Os vértices são as cidades e as arestas representam vias entre cidades, havendo uma distância (custo) associada.\n",
        "* O trecho de código abaixo gera um grafo para o problema do caixeiro viajante.\n",
        "  * O usuário pode escolher o número de cidades; \n",
        "  * O grafo é gerado em uma matriz bidimensional, sendo as distâncias valores inteiros aleatórios no intervalo [10, 100].\n"
      ]
    },
    {
      "cell_type": "code",
      "metadata": {
        "id": "G1o2VJlC-mMI",
        "colab": {
          "base_uri": "https://localhost:8080/"
        },
        "outputId": "db19e858-f684-4aa2-9078-59a330488c5b"
      },
      "source": [
        "#[2] Geração do grafo para o problema do caixeiro\n",
        "\n",
        "# função graphTSP(numCities, minDist, maxDist)\n",
        "# parâmetros: \n",
        "#   numCities: número de cities\n",
        "#   minDist: menor valor de distância\n",
        "#   maxDist: maior valor de distância\n",
        "# retorno:\n",
        "#   cities: grafo de cidades (Matriz numCities X numCities). As distância \n",
        "#   entre duas cidades são determinadas aleatoriamente entre minDist e maxDist\n",
        "def graphTSP(numCities, minDist, maxDist):\n",
        "  cities = numpy.zeros((numCities, numCities), dtype = int)\n",
        "  for i in range(numCities):\n",
        "    for j in range(numCities):\n",
        "      if (j>i):\n",
        "        cities[i, j] = random.randint(minDist, maxDist)\n",
        "      elif (j<i):\n",
        "        cities[i, j] = cities[j, i]\n",
        "  return cities\n",
        "\n",
        "numCities = 5     #  Número de cidade inicial\n",
        "\n",
        "while(True):\n",
        "  numCities = int(input('Digite o número de cidades: '))\n",
        "  if (numCities > 4):\n",
        "    break\n",
        "  else:\n",
        "    print('O número de cidades deve ser maior que 4!')\n",
        "\n",
        "cities = graphTSP(numCities, 10, 100)\n",
        "print('Grafo:\\n', cities)"
      ],
      "execution_count": null,
      "outputs": [
        {
          "output_type": "stream",
          "name": "stdout",
          "text": [
            "Digite o número de cidades: 20\n",
            "Grafo:\n",
            " [[  0  66  61  51  28  75  77  81  53  76  59  48  72  49  64  18  56  36\n",
            "   94  89]\n",
            " [ 66   0  92  50  14  60  35  92  23  92  58  21  19  15  41  81  27  40\n",
            "   29  37]\n",
            " [ 61  92   0  52  14  46  33  68  99  63  14  68  82  68  19  24  18  77\n",
            "   58  55]\n",
            " [ 51  50  52   0  12  66  24  18  40  82  38  20  93  83  18  67  55  39\n",
            "   73  68]\n",
            " [ 28  14  14  12   0  28  63  87  81  70  86  57  50  72  28  21  19  10\n",
            "   77  40]\n",
            " [ 75  60  46  66  28   0  20 100  44  93  62  14  95  79  89  18  50  68\n",
            "   18  57]\n",
            " [ 77  35  33  24  63  20   0  51  25  50  68  10  12  76  23  70  70  38\n",
            "   68  88]\n",
            " [ 81  92  68  18  87 100  51   0  55  65  10  74  71  53  52  52  46  73\n",
            "   80  59]\n",
            " [ 53  23  99  40  81  44  25  55   0  56  87  35  44  74  75  45  53  19\n",
            "   68  25]\n",
            " [ 76  92  63  82  70  93  50  65  56   0  48  96  98  51  59  83  44  84\n",
            "   93  94]\n",
            " [ 59  58  14  38  86  62  68  10  87  48   0  39  43  56  33  18  95  52\n",
            "   53  24]\n",
            " [ 48  21  68  20  57  14  10  74  35  96  39   0  38  85  59  87  70  30\n",
            "   52  61]\n",
            " [ 72  19  82  93  50  95  12  71  44  98  43  38   0  99  47  43  10  53\n",
            "   26  55]\n",
            " [ 49  15  68  83  72  79  76  53  74  51  56  85  99   0  60  56  54  50\n",
            "   15  51]\n",
            " [ 64  41  19  18  28  89  23  52  75  59  33  59  47  60   0  63  21  90\n",
            "   96  57]\n",
            " [ 18  81  24  67  21  18  70  52  45  83  18  87  43  56  63   0  78  24\n",
            "   56  88]\n",
            " [ 56  27  18  55  19  50  70  46  53  44  95  70  10  54  21  78   0  81\n",
            "   10  75]\n",
            " [ 36  40  77  39  10  68  38  73  19  84  52  30  53  50  90  24  81   0\n",
            "   27  94]\n",
            " [ 94  29  58  73  77  18  68  80  68  93  53  52  26  15  96  56  10  27\n",
            "    0  10]\n",
            " [ 89  37  55  68  40  57  88  59  25  94  24  61  55  51  57  88  75  94\n",
            "   10   0]]\n"
          ]
        }
      ]
    },
    {
      "cell_type": "markdown",
      "metadata": {
        "id": "ZK8W-fLgBjLr"
      },
      "source": [
        "# **População e Indivíduos**\n",
        "> A **população** é o conjunto de indivíduos que estão sendo cogitados como solução e que serão usados para criar o novo conjunto de indivíduos para análise.\n",
        "\n",
        "> O **indivíduo**, também chamado de cromossomo ou string, é uma possível solução para um dado problema. Cada **indivíduo** é um conjunto de parâmetros (genes), cuja representação depende do domínio do problema.\n",
        "  * **Genótipo** é a sequência de genes. No caso do problema do caixeiro, cada gene é uma cidade (número do vértice).\n",
        "    * Exemplo: [0, 2, 1, 4, 3] é um genótipo de indivíduo para o problema do caixeiro com 5 cidades.\n",
        "  * **Fenótipo** é o produto da interação de todos os genes.\n",
        "    * Para o caixeiro seria a rota."
      ]
    },
    {
      "cell_type": "code",
      "metadata": {
        "id": "wfwLGOdnG-EJ",
        "colab": {
          "base_uri": "https://localhost:8080/"
        },
        "outputId": "8401308f-b73b-47f3-d33c-87d086d9905f"
      },
      "source": [
        "#[3] Definição da Geração dos Indivíduos\n",
        "\n",
        "creator.create(\"FitnessMin\", base.Fitness, weights=(-1.0,)) # minimizar = peso negativo \n",
        "creator.create(\"Individual\", list, fitness=creator.FitnessMin)\n",
        "\n",
        "toolbox = base.Toolbox()\n",
        "# gerador de parâmetros \n",
        "toolbox.register(\"attr_int\", random.randint, 0, numCities-1)\n",
        "\n",
        "# define como os indivíduos/população é gerada\n",
        "toolbox.register(\"individual\", tools.initRepeat, creator.Individual, toolbox.attr_int, numCities)\n",
        "toolbox.register(\"population\", tools.initRepeat, list, toolbox.individual)"
      ],
      "execution_count": null,
      "outputs": [
        {
          "output_type": "stream",
          "name": "stderr",
          "text": [
            "/usr/local/lib/python3.7/dist-packages/deap/creator.py:141: RuntimeWarning: A class named 'FitnessMin' has already been created and it will be overwritten. Consider deleting previous creation of that class or rename it.\n",
            "  RuntimeWarning)\n",
            "/usr/local/lib/python3.7/dist-packages/deap/creator.py:141: RuntimeWarning: A class named 'Individual' has already been created and it will be overwritten. Consider deleting previous creation of that class or rename it.\n",
            "  RuntimeWarning)\n"
          ]
        }
      ]
    },
    {
      "cell_type": "markdown",
      "metadata": {
        "id": "3GNerpXDRHvY"
      },
      "source": [
        "#**Avaliação da Aptidão**\n",
        "> A Função de Aptidão ou Fitness mede o grau de aptidão de cada indivíduo da população.\n",
        "\n",
        "> O grau de aptidão é a qualidade da solução (indivíduo) frente ao problema, ou seja, o quão próximo um indivíduo está da solução desejada ou quão boa é esta solução.\n",
        "\n",
        "> Para o **Problema do Caixeiro Viajante** a aptidão está associada a menor rota. Assim, abaixo temos a função que mede o custo de uma rota (indivíduo)."
      ]
    },
    {
      "cell_type": "code",
      "metadata": {
        "id": "Xj10GoxwRGg4"
      },
      "source": [
        "#[4] Função para a avaliação da aptidão\n",
        "\n",
        "# Função evalRoute(individual)\n",
        "# parâmetros:\n",
        "#   individual: uma rota\n",
        "# retorno:\n",
        "#   (cost, ): tupla contendo apenas o custo da rota (cost).\n",
        "#             * precisa ser uma tupla devido a exigências do pacote DEAP \n",
        "def evalRoute(individual):\n",
        "  cost = 0\n",
        "  for i in range(1, len(individual)):\n",
        "    if (individual.count(individual[i])>1):\n",
        "      cost = cost + 1000000 # penalidade por repetir cidade\n",
        "    cost = cost + cities[individual[i-1], individual[i]]        \n",
        "  cost = cost + cities[individual[i],individual[0]]\n",
        "  return (cost,)"
      ],
      "execution_count": null,
      "outputs": []
    },
    {
      "cell_type": "markdown",
      "metadata": {
        "id": "_IVtotAVT8AH"
      },
      "source": [
        "#**Processamento do Algoritmo Genético**\n",
        "> A estrutura básica de um algoritmo genético pode ser resumida pela Figura 1.\n",
        "\n",
        "Figura 1. Estrutura Básica dos Algoritmos Genéticos\n",
        "\n",
        "<img src=\"https://drive.google.com/uc?id=1gRhZfpbF3_B5-SwbstABFxErRzGcBumT\" width=\"500\">\n",
        "\n",
        "\n",
        "> **Gerações**\n",
        "* A cada iteração do algoritmo, um novo conjunto de indivíduos é gerado a partir da população anterior.\n",
        "* Cada novo conjunto é chamado de “Geração”.\n",
        "* Através da criação de uma grande quantidade de gerações que é possível obter resultados dos Algoritmos Genéticos.\n",
        "\n",
        ">**Avaliação de Aptidão**\n",
        "* A função de aptidão é aplicada ao fenótipo do indivíduo.\n",
        "\n",
        ">**Seleção**\n",
        "* Selecionar os indivíduos sobre os quais serão aplicados os operadores genéticos.\n",
        "* Escolhe preferencialmente, embora não exclusivamente, indivíduos com maior aptidão. \n",
        "* Há diversas técnicas de seleção, entre elas há o método de seleção por Roleta e o método de seleção por Torneio.\n",
        "\n",
        ">**Cruzamento**\n",
        "* Também conhecida por Crossover ou Recombinação.\n",
        "* Recombinação de características dos pais (Figura 2).\n",
        "  * Permite que as próximas gerações herdem essas características.\n",
        "* Escolhe dois indivíduos e troca trechos dos cromossomos entre eles.\n",
        "\n",
        "Figura 2. Crossover de 1 ponto\n",
        "\n",
        "<img src=\"https://drive.google.com/uc?id=13Sw3R_kGl4YqXEy3IGoPrYt1Tm9ExVPp\" width=\"500\">\n",
        "\n",
        "\n",
        ">**Mutação**\n",
        "* Introdução e manutenção da diversidade genética.\n",
        "* Altera aleatoriamente um ou mais genes no cromossomo (Figura 3).\n",
        "\n",
        "\n",
        "Figura 3. Mutação de um gene\n",
        "\n",
        "<img src=\"https://drive.google.com/uc?id=1FEJC7WppmF1oDNEF-mLRbRaeciVdeh_b\" width=\"250\">\n",
        "\n",
        "\n"
      ]
    },
    {
      "cell_type": "code",
      "metadata": {
        "id": "xVlSENgQUOUR"
      },
      "source": [
        "#[5] Processamento do Algoritmo Genético\n",
        "\n",
        "# Definindo avaliação de aptidão, seleção, cruzamento e mutação \n",
        "toolbox.register(\"evaluate\", evalRoute)\n",
        "toolbox.register(\"select\", tools.selTournament, tournsize=3) # seleção por torneio\n",
        "toolbox.register(\"mate\", tools.cxOnePoint) # um ponto de cruzamento\n",
        "# indpb - Independent Probability for each attribute to be exchanged - original 0.05\n",
        "toolbox.register(\"mutate\", tools.mutUniformInt, low=0, up=numCities-1, indpb=0.15)\n",
        "\n",
        "def main():\n",
        "  print('Execução do algoritmo genético:')\n",
        "\n",
        "  random.seed(32)\n",
        "  NGEN = 10000    # número de gerações\n",
        "  MU = 100        # tamanho da população\n",
        "  LAMBDA = 300   # número de filhos gerados\n",
        "  CXPB = 0.5     # probabilidade de cruzamento\n",
        "  MUTPB = 0.5    # probabilidade de mutação\n",
        "  \n",
        "  pop = toolbox.population(n=MU)\n",
        "  hof = tools.ParetoFront()\n",
        "  stats = tools.Statistics(lambda ind: ind.fitness.values)\n",
        "  stats.register(\"avg\", numpy.mean, axis=0)\n",
        "  stats.register(\"std\", numpy.std, axis=0)\n",
        "  stats.register(\"min\", numpy.min, axis=0)\n",
        "  stats.register(\"max\", numpy.max, axis=0)\n",
        "  \n",
        "  algorithms.eaMuPlusLambda(pop, toolbox, MU, LAMBDA, CXPB, MUTPB, NGEN, stats,\n",
        "                            halloffame=hof)\n",
        "      \n",
        "  print('\\nRota:', hof[0],'\\nCusto:', evalRoute(hof[0])[0])\n",
        "  return pop, stats, hof\n",
        "                 \n",
        "if __name__ == \"__main__\":\n",
        "    main()"
      ],
      "execution_count": null,
      "outputs": []
    }
  ]
}