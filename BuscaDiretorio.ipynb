{
 "cells": [
  {
   "cell_type": "code",
   "execution_count": 5,
   "id": "1c9c9a1c-2a33-496f-95c2-b07a2defc4a3",
   "metadata": {},
   "outputs": [],
   "source": [
    "import os\n"
   ]
  },
  {
   "cell_type": "code",
   "execution_count": 25,
   "id": "75e6603b-c6ed-45bf-88c6-1945a34276d2",
   "metadata": {},
   "outputs": [],
   "source": [
    "def buscar_arquivos(diretorio, termo_busca):\n",
    "    arquivos_encontrados = []\n",
    "    \n",
    "    if not os.path.isdir(diretorio):\n",
    "        print(f\"O diretório {diretorio} não existe.\")\n",
    "        return arquivos_encontrados\n",
    "    \n",
    "    for nome_arquivo in os.listdir(diretorio):\n",
    "        caminho_completo = os.path.join(diretorio, nome_arquivo)\n",
    "        if os.path.isfile(caminho_completo):\n",
    "            if termo_busca in nome_arquivo:\n",
    "                arquivos_encontrados.append(caminho_completo)\n",
    "    \n",
    "    return arquivos_encontrados\n"
   ]
  },
  {
   "cell_type": "code",
   "execution_count": 23,
   "id": "08c59d7d-aacd-422b-b2f1-720857be41d8",
   "metadata": {},
   "outputs": [
    {
     "name": "stdout",
     "output_type": "stream",
     "text": [
      "O diretório 'C:/CT-e' existe.\n"
     ]
    }
   ],
   "source": [
    "def verificar_diretorio(diretorio):\n",
    "   \n",
    "    if os.path.isdir(diretorio):\n",
    "        print(f\"O diretório '{diretorio}' existe.\")\n",
    "    else:\n",
    "        print(f\"O diretório '{diretorio}' não existe.\")\n",
    "\n",
    "diretorio = \"C:/CT-e\" \n",
    "verificar_diretorio(diretorio)\n"
   ]
  },
  {
   "cell_type": "code",
   "execution_count": 27,
   "id": "ee8b6398-3151-4c0d-93f8-6376f09e73cc",
   "metadata": {},
   "outputs": [
    {
     "name": "stdout",
     "output_type": "stream",
     "text": [
      "Nenhum arquivo encontrado com o termo de busca.\n"
     ]
    }
   ],
   "source": [
    "diretorio = \"C:/CT-e\"\n",
    "termo_busca='00000000'\n",
    "resultados = buscar_arquivos(diretorio, termo_busca)\n",
    "\n",
    "if resultados:\n",
    "    print(\"Arquivos encontrados:\")\n",
    "    for resultado in resultados:\n",
    "        print(resultado)\n",
    "else:\n",
    "    print(\"Nenhum arquivo encontrado com o termo de busca.\")\n"
   ]
  }
 ],
 "metadata": {
  "kernelspec": {
   "display_name": "Python 3 (ipykernel)",
   "language": "python",
   "name": "python3"
  },
  "language_info": {
   "codemirror_mode": {
    "name": "ipython",
    "version": 3
   },
   "file_extension": ".py",
   "mimetype": "text/x-python",
   "name": "python",
   "nbconvert_exporter": "python",
   "pygments_lexer": "ipython3",
   "version": "3.12.4"
  }
 },
 "nbformat": 4,
 "nbformat_minor": 5
}
